{
  "cells": [
    {
      "cell_type": "markdown",
      "id": "32251fdd",
      "metadata": {
        "id": "32251fdd"
      },
      "source": [
        "## Data Types in Python \n",
        "\n",
        "The following data types can be used in base python:\n",
        "* **boolean**\n",
        "* **integer**\n",
        "* **float**\n",
        "* **string**\n",
        "* **list**\n",
        "* **None**\n",
        "* complex\n",
        "* object\n",
        "* set\n",
        "* dictionary\n",
        "\n",
        "We will only focus on the **bolded** ones\n",
        "\n",
        " \n",
        "\n",
        "## 1.  Numérica o cuantitativa (tomar la media tiene sentido)\n",
        "* 1.1 Discrete\n",
        "    * Integer (int) #Stored exactly\n",
        "* 1.2 Continuous\n",
        "    * Float (float) #Stored similarly to scientific notation. Allows for decimal places but loses precision.\n"
      ]
    },
    {
      "cell_type": "code",
      "execution_count": null,
      "id": "0459eb1d",
      "metadata": {
        "id": "0459eb1d"
      },
      "outputs": [],
      "source": [
        "import math"
      ]
    },
    {
      "cell_type": "markdown",
      "id": "857f4ad3",
      "metadata": {
        "id": "857f4ad3"
      },
      "source": [
        "### Integers"
      ]
    },
    {
      "cell_type": "code",
      "execution_count": null,
      "id": "middle-anthropology",
      "metadata": {
        "id": "middle-anthropology"
      },
      "outputs": [],
      "source": [
        "type(4.0)"
      ]
    },
    {
      "cell_type": "code",
      "execution_count": null,
      "id": "5d1a1cf7",
      "metadata": {
        "id": "5d1a1cf7"
      },
      "outputs": [],
      "source": [
        "type(0)"
      ]
    },
    {
      "cell_type": "code",
      "execution_count": null,
      "id": "d0dcfc70",
      "metadata": {
        "id": "d0dcfc70"
      },
      "outputs": [],
      "source": [
        "type(-3)\n"
      ]
    },
    {
      "cell_type": "markdown",
      "id": "17c27763",
      "metadata": {
        "id": "17c27763"
      },
      "source": [
        "### Try taking the mean"
      ]
    },
    {
      "cell_type": "code",
      "execution_count": null,
      "id": "5cfa6a81",
      "metadata": {
        "id": "5cfa6a81"
      },
      "outputs": [],
      "source": [
        "numbers = [2, 3, 4, 5]\n",
        "print(sum(numbers)/len(numbers))\n",
        "type(sum(numbers)/len(numbers)) #In Python 3 returns float, but in Python 2 would return int"
      ]
    },
    {
      "cell_type": "markdown",
      "id": "ee935a8b",
      "metadata": {
        "id": "ee935a8b"
      },
      "source": [
        "### Floats"
      ]
    },
    {
      "cell_type": "code",
      "execution_count": null,
      "id": "d5b56b0b",
      "metadata": {
        "id": "d5b56b0b"
      },
      "outputs": [],
      "source": [
        "numbers = [2, 3, 4, 5]\n",
        "\n",
        "print(sum(numbers)/len(numbers))\n",
        "type(sum(numbers)/len(numbers)) #In Python 3 returns float, but in Python 2 would return int"
      ]
    },
    {
      "cell_type": "markdown",
      "id": "8dad8d18",
      "metadata": {
        "id": "8dad8d18"
      },
      "source": [
        "###  **Floats**\n",
        "\n",
        " \n",
        "\n",
        "\n"
      ]
    },
    {
      "cell_type": "code",
      "execution_count": null,
      "id": "93920e0e",
      "metadata": {
        "id": "93920e0e"
      },
      "outputs": [],
      "source": [
        "3/5"
      ]
    },
    {
      "cell_type": "code",
      "execution_count": null,
      "id": "e6a2034c",
      "metadata": {
        "id": "e6a2034c"
      },
      "outputs": [],
      "source": [
        "6*10**(-1) # 6 x 10 ^(-1) = 0.60 "
      ]
    },
    {
      "cell_type": "code",
      "execution_count": null,
      "id": "27a95e2f",
      "metadata": {
        "id": "27a95e2f"
      },
      "outputs": [],
      "source": [
        "type(3/5)"
      ]
    },
    {
      "cell_type": "code",
      "execution_count": null,
      "id": "043b7798",
      "metadata": {
        "id": "043b7798"
      },
      "outputs": [],
      "source": [
        "print(math.pi)\n",
        "type(math.pi)"
      ]
    },
    {
      "cell_type": "code",
      "execution_count": null,
      "id": "69623993",
      "metadata": {
        "id": "69623993"
      },
      "outputs": [],
      "source": [
        "type(4.0)"
      ]
    },
    {
      "cell_type": "code",
      "execution_count": null,
      "id": "664528db",
      "metadata": {
        "id": "664528db"
      },
      "outputs": [],
      "source": [
        "# Try taking the mean\n",
        "numbers = [math.pi, 3/5, 4.1]\n",
        "type(sum(numbers))"
      ]
    },
    {
      "cell_type": "markdown",
      "id": "49356221",
      "metadata": {
        "id": "49356221"
      },
      "source": [
        " ## 2. Categorical or Qualitative\n",
        " * 2.1 Nominal\n",
        "     * Boolean (bool)\n",
        "     * String (str)\n",
        "     * None (NoneType)\n",
        " * 2.2 Ordinal\n",
        "     * Only defined by how you use the data\n",
        "     * Often important when creating visuals\n",
        "     * Lists can hold ordinal information because they have indices\n",
        "\n"
      ]
    },
    {
      "cell_type": "markdown",
      "id": "295dee23",
      "metadata": {
        "id": "295dee23"
      },
      "source": [
        "### **Boolean**\n",
        " "
      ]
    },
    {
      "cell_type": "code",
      "execution_count": null,
      "id": "4bfe30b5",
      "metadata": {
        "id": "4bfe30b5"
      },
      "outputs": [],
      "source": [
        "# Boolean\n",
        "type(True)"
      ]
    },
    {
      "cell_type": "code",
      "execution_count": null,
      "id": "763e41d6",
      "metadata": {
        "id": "763e41d6"
      },
      "outputs": [],
      "source": [
        "type(bool('yes'))"
      ]
    },
    {
      "cell_type": "code",
      "execution_count": null,
      "id": "d1a43efd",
      "metadata": {
        "id": "d1a43efd"
      },
      "outputs": [],
      "source": [
        "# Boolean\n",
        "x = 6\n",
        "y = 7\n",
        "if x < y:\n",
        "    print(\"{} es menor que {}\".format(x,y))\n",
        "print('Mensaje predefinido') # default message. "
      ]
    },
    {
      "cell_type": "code",
      "execution_count": null,
      "id": "b84b5830",
      "metadata": {
        "id": "b84b5830"
      },
      "outputs": [],
      "source": [
        "if x < y:\n",
        "    print(\"{} es menor que {}\".format(x,y))\n",
        "else:\n",
        "    print(\"{} es mejor que {}\".format(x,y))"
      ]
    },
    {
      "cell_type": "code",
      "execution_count": null,
      "id": "919ef3fd",
      "metadata": {
        "id": "919ef3fd"
      },
      "outputs": [],
      "source": [
        "myList = [True, 6<5, 1==3, None is None]\n",
        "\n",
        "for element in myList:\n",
        "    print(element, '\\t', type(element))"
      ]
    },
    {
      "cell_type": "code",
      "execution_count": null,
      "id": "ff00d033",
      "metadata": {
        "id": "ff00d033"
      },
      "outputs": [],
      "source": [
        "print('Mean is :\\t', sum(myList)/len(myList))\n",
        "type(sum(myList)/len(myList))\n",
        " "
      ]
    },
    {
      "cell_type": "markdown",
      "id": "832d2f49",
      "metadata": {
        "id": "832d2f49"
      },
      "source": [
        "### **String**"
      ]
    },
    {
      "cell_type": "code",
      "execution_count": null,
      "id": "0c8f0425",
      "metadata": {
        "id": "0c8f0425"
      },
      "outputs": [],
      "source": [
        "type(\"This sentence makes sense\")"
      ]
    },
    {
      "cell_type": "code",
      "execution_count": null,
      "id": "9011e599",
      "metadata": {
        "id": "9011e599"
      },
      "outputs": [],
      "source": [
        "type(\"Makes sentense this sense\")"
      ]
    },
    {
      "cell_type": "code",
      "execution_count": null,
      "id": "88759847",
      "metadata": {
        "id": "88759847"
      },
      "outputs": [],
      "source": [
        "print(math.pi)\n",
        "type(math.pi)"
      ]
    },
    {
      "cell_type": "code",
      "execution_count": null,
      "id": "67c36c62",
      "metadata": {
        "id": "67c36c62"
      },
      "outputs": [],
      "source": [
        "print(\"math.pi\")\n",
        "type(\"math.pi\")"
      ]
    },
    {
      "cell_type": "code",
      "execution_count": null,
      "id": "21317285",
      "metadata": {
        "id": "21317285"
      },
      "outputs": [],
      "source": [
        "str_list = ['dog', 'koala', 'goose']\n",
        "#sum(strList)/len(strList)\n",
        "str_list"
      ]
    },
    {
      "cell_type": "code",
      "execution_count": null,
      "id": "c2dd56da",
      "metadata": {
        "id": "c2dd56da"
      },
      "outputs": [],
      "source": [
        "len(str_list)"
      ]
    },
    {
      "cell_type": "markdown",
      "id": "7b865cd6",
      "metadata": {
        "id": "7b865cd6"
      },
      "source": [
        "### **Nonetype**"
      ]
    },
    {
      "cell_type": "code",
      "execution_count": null,
      "id": "ab3e1bd8",
      "metadata": {
        "id": "ab3e1bd8"
      },
      "outputs": [],
      "source": [
        "# None\n",
        "type(None)"
      ]
    },
    {
      "cell_type": "code",
      "execution_count": null,
      "id": "45d940cb",
      "metadata": {
        "id": "45d940cb"
      },
      "outputs": [],
      "source": [
        "#type(none) #Error, menoscula 'n'"
      ]
    },
    {
      "cell_type": "code",
      "execution_count": null,
      "id": "b5cdd520",
      "metadata": {
        "id": "b5cdd520"
      },
      "outputs": [],
      "source": [
        "# None\n",
        "\n",
        "x = None\n",
        "type(x)"
      ]
    },
    {
      "cell_type": "code",
      "execution_count": null,
      "id": "8b0eabc3",
      "metadata": {
        "id": "8b0eabc3"
      },
      "outputs": [],
      "source": [
        "none_list = [None]*5\n",
        "#sum(none_list)/len(none_list)\n",
        "len(none_list)"
      ]
    },
    {
      "cell_type": "code",
      "execution_count": null,
      "id": "56061655",
      "metadata": {
        "id": "56061655"
      },
      "outputs": [],
      "source": [
        "none_list"
      ]
    },
    {
      "cell_type": "code",
      "execution_count": null,
      "id": "54b8a20a",
      "metadata": {
        "id": "54b8a20a"
      },
      "outputs": [],
      "source": [
        "print(none_list)"
      ]
    },
    {
      "cell_type": "markdown",
      "id": "802e4a66",
      "metadata": {
        "id": "802e4a66"
      },
      "source": [
        "### **Lists**\n",
        "\n",
        "Una lista puede contener muchos tipos y también se puede utilizar para almacenar información ordinal.\n",
        "\n",
        "\n"
      ]
    },
    {
      "cell_type": "code",
      "execution_count": null,
      "id": "427adb9f",
      "metadata": {
        "id": "427adb9f"
      },
      "outputs": [],
      "source": [
        "# List\n",
        "\n",
        "my_list = [1, 1.1, \"This is a sentence\", None]\n",
        "\n",
        "for i in my_list:\n",
        "    print(type(i))"
      ]
    },
    {
      "cell_type": "code",
      "execution_count": null,
      "id": "2fa05758",
      "metadata": {
        "id": "2fa05758"
      },
      "outputs": [],
      "source": [
        "#sum(my_list)/len(my_list)"
      ]
    },
    {
      "cell_type": "code",
      "execution_count": null,
      "id": "99fa9449",
      "metadata": {
        "id": "99fa9449"
      },
      "outputs": [],
      "source": [
        "len(my_list)"
      ]
    },
    {
      "cell_type": "code",
      "execution_count": null,
      "id": "519997bc",
      "metadata": {
        "id": "519997bc"
      },
      "outputs": [],
      "source": [
        " my_list"
      ]
    },
    {
      "cell_type": "code",
      "execution_count": null,
      "id": "5d79e28c",
      "metadata": {
        "id": "5d79e28c"
      },
      "outputs": [],
      "source": [
        "# List\n",
        "\n",
        "my_list = [1, 2, 3]\n",
        "\n",
        "for i in my_list:\n",
        "    print(i,'\\t', type(i))\n",
        "    \n",
        "my_list"
      ]
    },
    {
      "cell_type": "code",
      "execution_count": null,
      "id": "a4947fd7",
      "metadata": {
        "id": "a4947fd7"
      },
      "outputs": [],
      "source": [
        "len(my_list)"
      ]
    },
    {
      "cell_type": "code",
      "execution_count": null,
      "id": "95490858",
      "metadata": {
        "id": "95490858"
      },
      "outputs": [],
      "source": [
        "sum(my_list)/len(my_list) # note that this outputs a float"
      ]
    },
    {
      "cell_type": "code",
      "execution_count": null,
      "id": "503e1340",
      "metadata": {
        "id": "503e1340"
      },
      "outputs": [],
      "source": [
        "my_list = ['third', 'first', 'medium', 'small', 'large']\n",
        "my_list[0]"
      ]
    },
    {
      "cell_type": "code",
      "execution_count": null,
      "id": "b7bc721e",
      "metadata": {
        "id": "b7bc721e"
      },
      "outputs": [],
      "source": [
        "my_list.sort()\n",
        "my_list"
      ]
    },
    {
      "cell_type": "code",
      "execution_count": null,
      "id": "641934fa",
      "metadata": {
        "id": "641934fa"
      },
      "outputs": [],
      "source": [
        "my_list[:2] #from begining to 2(pos 2 not included)"
      ]
    },
    {
      "cell_type": "code",
      "execution_count": null,
      "id": "bcd27622",
      "metadata": {
        "id": "bcd27622"
      },
      "outputs": [],
      "source": [
        "my_list[2:] #from pos 2 to end. "
      ]
    },
    {
      "cell_type": "code",
      "execution_count": null,
      "id": "18828270",
      "metadata": {
        "id": "18828270"
      },
      "outputs": [],
      "source": [
        "my_list[:] #from begining to end"
      ]
    },
    {
      "cell_type": "code",
      "execution_count": null,
      "id": "835d1c74",
      "metadata": {
        "id": "835d1c74"
      },
      "outputs": [],
      "source": [
        "my_list[-1] #last of the list"
      ]
    },
    {
      "cell_type": "code",
      "execution_count": null,
      "id": "bbf5bc52",
      "metadata": {
        "id": "bbf5bc52"
      },
      "outputs": [],
      "source": [
        "my_list[:-2] #from begining to second last(not included) element. "
      ]
    },
    {
      "cell_type": "code",
      "execution_count": null,
      "id": "52738360",
      "metadata": {
        "id": "52738360"
      },
      "outputs": [],
      "source": [
        "my_list[-2:] #from second last (included) to end. "
      ]
    },
    {
      "cell_type": "markdown",
      "id": "b25045cc",
      "metadata": {
        "id": "b25045cc"
      },
      "source": [
        "There are more datatypes available when using different libraries such as Pandas and Numpy, which we will introduce to you as we use them."
      ]
    }
  ],
  "metadata": {
    "kernelspec": {
      "display_name": "Python 3 (ipykernel)",
      "language": "python",
      "name": "python3"
    },
    "language_info": {
      "codemirror_mode": {
        "name": "ipython",
        "version": 3
      },
      "file_extension": ".py",
      "mimetype": "text/x-python",
      "name": "python",
      "nbconvert_exporter": "python",
      "pygments_lexer": "ipython3",
      "version": "3.9.5"
    },
    "colab": {
      "name": "01_01_data_types.ipynb",
      "provenance": []
    }
  },
  "nbformat": 4,
  "nbformat_minor": 5
}