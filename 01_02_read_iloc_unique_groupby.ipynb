{
  "cells": [
    {
      "cell_type": "markdown",
      "id": "f4e421fc",
      "metadata": {
        "id": "f4e421fc"
      },
      "source": [
        "# Bibliotecas de Python\n",
        "\n",
        "Python, al igual que otros lenguajes de programación, tiene una gran cantidad de módulos o bibliotecas adicionales que aumentan el marco base y la funcionalidad del lenguaje.\n",
        "\n",
        "Piense en una biblioteca como una colección de funciones a las que se puede acceder para completar ciertas tareas de programación sin tener que escribir su propio algoritmo.\n",
        "\n",
        "Para este curso, nos centraremos principalmente en las siguientes bibliotecas:\n",
        "\n",
        "* **Numpy** es una biblioteca para trabajar con matrices de datos.\n",
        "\n",
        "* **Pandas** proporciona estructuras de datos y herramientas de análisis de datos de alto rendimiento y fáciles de usar.\n",
        "\n",
        "* **Scipy** es una biblioteca de técnicas de computación numérica y científica.\n",
        "\n",
        "* **Matplotlib** es una biblioteca para hacer gráficos.\n",
        "\n",
        "* **Seaborn** es una interfaz de nivel superior para Matplotlib que se puede utilizar para simplificar muchas tareas gráficas.\n",
        "\n",
        "* **Statsmodels** es una biblioteca que implementa muchas técnicas estadísticas.\n",
        "\n",
        "# Documentación\n",
        "\n",
        "La documentación confiable y accesible es una necesidad absoluta cuando se trata de la transferencia de conocimientos de lenguajes de programación. Afortunadamente, Python proporciona una cantidad significativa de documentación detallada que explica los entresijos de la sintaxis del lenguaje, las bibliotecas y más.\n",
        "\n",
        "Comprender cómo leer la documentación es crucial para cualquier programador, ya que servirá como un recurso fantástico para aprender las complejidades de Python.\n",
        "\n",
        "Aquí está el enlace a la documentación de la biblioteca estándar de Python: [Biblioteca estándar de Python](https://docs.python.org/3/library/index.html#library-index)\n",
        "\n",
        "\n",
        "### Importación de bibliotecas\n",
        "\n",
        "Al usar Python, siempre debe comenzar sus scripts importando las bibliotecas que usará.\n",
        "\n",
        "La siguiente declaración importa la biblioteca numpy y pandas, y les da nombres abreviados:"
      ]
    },
    {
      "cell_type": "code",
      "execution_count": null,
      "id": "fef64877",
      "metadata": {
        "id": "fef64877"
      },
      "outputs": [],
      "source": [
        "import numpy as np\n",
        "import pandas as pd"
      ]
    },
    {
      "cell_type": "markdown",
      "id": "def8cdae",
      "metadata": {
        "id": "def8cdae"
      },
      "source": [
        "### Utilizing Library Functions\n",
        "\n",
        "After importing a library, its functions can then be called from your code by prepending the library name to the function name.  For example, to use the '`dot`' function from the '`numpy`' library, you would enter '`numpy.dot`'.  \n",
        "\n",
        "To avoid repeatedly having to type the libary name in your scripts, it is conventional to define a two or three letter abbreviation for each library, e.g. '`numpy`' is usually abbreviated as '`np`'.  This allows us to use '`np.dot`' instead of '`numpy.dot`'.  Similarly, the Pandas library is typically abbreviated as '`pd`'."
      ]
    },
    {
      "cell_type": "code",
      "execution_count": null,
      "id": "7e971c7d",
      "metadata": {
        "id": "7e971c7d",
        "outputId": "19e01ff0-12c8-461c-ce82-45c15ebfbd7f"
      },
      "outputs": [
        {
          "data": {
            "text/plain": [
              "numpy.ndarray"
            ]
          },
          "execution_count": 5,
          "metadata": {},
          "output_type": "execute_result"
        }
      ],
      "source": [
        "a = np.array([0,1,2,3,4,5,6,7,8,9,10]) \n",
        "np.mean(a)\n",
        "type(a)"
      ]
    },
    {
      "cell_type": "code",
      "execution_count": null,
      "id": "341e9ddc",
      "metadata": {
        "id": "341e9ddc",
        "outputId": "14e6648c-94cf-4b15-c469-2df6a365a395"
      },
      "outputs": [
        {
          "data": {
            "text/plain": [
              "numpy.complex128"
            ]
          },
          "execution_count": 8,
          "metadata": {},
          "output_type": "execute_result"
        }
      ],
      "source": [
        "a = np.dot([2j, 3j], [2, 3j])\n",
        "#2*2j + 3j*3j  % j*j = -1\n",
        "type(a)"
      ]
    },
    {
      "cell_type": "code",
      "execution_count": null,
      "id": "39c3ebcb",
      "metadata": {
        "id": "39c3ebcb",
        "outputId": "e886c532-7505-4d26-f6ae-b609a24a26e8"
      },
      "outputs": [
        {
          "data": {
            "text/plain": [
              "numpy.int64"
            ]
          },
          "execution_count": 10,
          "metadata": {},
          "output_type": "execute_result"
        }
      ],
      "source": [
        "a = np.dot(3, 4)\n",
        "type(a)"
      ]
    },
    {
      "cell_type": "markdown",
      "id": "aa0827b0",
      "metadata": {
        "id": "aa0827b0"
      },
      "source": [
        "More on [numpy.dot](https://numpy.org/doc/stable/reference/generated/numpy.dot.html) can be seen [here](https://numpy.org/doc/stable/reference/generated/numpy.dot.html). "
      ]
    },
    {
      "cell_type": "markdown",
      "id": "9c806c4c",
      "metadata": {
        "id": "9c806c4c"
      },
      "source": [
        "# Gestión de datos\n",
        "\n",
        "La gestión de datos es un componente crucial para el trabajo de análisis estadístico y ciencia de datos. El siguiente código mostrará cómo importar datos a través de la biblioteca de pandas, ver sus datos y transformarlos.\n",
        "\n",
        "*  La estructura de datos principal con la que trabaja Pandas se llama **DataFrames** (df). Se trata de una tabla de datos bidimensional en la que las filas suelen representar casos (p. Ej., Participantes del concurso Cartwheel) y las **columnas** representan **variables**.\n",
        "\n",
        "* Pandas también tiene una estructura de datos unidimensional llamada ``Series`` que encontraremos al acceder a una sola columna de un Marco de datos.\n",
        "\n",
        "Pandas tiene una variedad de funciones llamadas '`read_xxx`' para leer datos en diferentes formatos. Ahora mismo nos centraremos en leer archivos '`csv`', que significa valores separados por comas. Sin embargo, los otros formatos de archivo incluyen excel, json y sql, solo por nombrar algunos.\n",
        "\n",
        "\n",
        "Hay muchas otras opciones para '`read_csv`' que son muy útiles. Por ejemplo, usaría la opción `sep ='\\t' ` en lugar del predeterminado `sep =','` si los campos de su archivo de datos están delimitados por tabulaciones en lugar de comas. Consulte [aquí](https://pandas.pydata.org/pandas-docs/stable/generated/pandas.read_csv.html) para obtener la documentación completa de '`read_csv`'."
      ]
    },
    {
      "cell_type": "markdown",
      "id": "17dc416a",
      "metadata": {
        "id": "17dc416a"
      },
      "source": [
        "### Importing Data"
      ]
    },
    {
      "cell_type": "code",
      "execution_count": null,
      "id": "9c4d00ce",
      "metadata": {
        "id": "9c4d00ce",
        "outputId": "04773e7e-5477-4bf8-aab9-6c0272bdb7fc"
      },
      "outputs": [
        {
          "data": {
            "text/plain": [
              "pandas.core.frame.DataFrame"
            ]
          },
          "execution_count": 11,
          "metadata": {},
          "output_type": "execute_result"
        }
      ],
      "source": [
        "datafile = \"datasets/Cartwheeldata.csv\"\n",
        "\n",
        "# Read the .csv file and store it as a pandas Data Frame\n",
        "df = pd.read_csv(datafile)\n",
        "\n",
        "# Output object type\n",
        "type(df)\n"
      ]
    },
    {
      "cell_type": "markdown",
      "id": "ab46cee2",
      "metadata": {
        "id": "ab46cee2"
      },
      "source": [
        "### Viewing Data\n",
        "\n",
        "We can view our Data Frame by calling the head() function"
      ]
    },
    {
      "cell_type": "code",
      "execution_count": null,
      "id": "7bec4754",
      "metadata": {
        "id": "7bec4754"
      },
      "outputs": [],
      "source": [
        "df.head() "
      ]
    },
    {
      "cell_type": "code",
      "execution_count": null,
      "id": "41de4233",
      "metadata": {
        "id": "41de4233"
      },
      "outputs": [],
      "source": [
        "df.head(3)"
      ]
    },
    {
      "cell_type": "markdown",
      "id": "1aee7869",
      "metadata": {
        "id": "1aee7869"
      },
      "source": [
        "The head() function simply shows the first 5 rows of our Data Frame.  If we wanted to show the entire Data Frame we would simply write the following:"
      ]
    },
    {
      "cell_type": "code",
      "execution_count": null,
      "id": "094e1408",
      "metadata": {
        "id": "094e1408"
      },
      "outputs": [],
      "source": [
        "df"
      ]
    },
    {
      "cell_type": "markdown",
      "id": "042ffd5d",
      "metadata": {
        "id": "042ffd5d"
      },
      "source": [
        "As you can see, we have a 2-Dimensional object where each row is an independent observation of our cartwheel data.\n",
        "\n",
        "To gather more information regarding the data, we can view the column names and data types of each column with the following functions:"
      ]
    },
    {
      "cell_type": "code",
      "execution_count": null,
      "id": "194fed38",
      "metadata": {
        "id": "194fed38"
      },
      "outputs": [],
      "source": [
        "df.columns"
      ]
    },
    {
      "cell_type": "code",
      "execution_count": null,
      "id": "c85144e1",
      "metadata": {
        "id": "c85144e1"
      },
      "outputs": [],
      "source": [
        "for i in df.columns:\n",
        "    print(i)"
      ]
    },
    {
      "cell_type": "code",
      "execution_count": null,
      "id": "a0f5463d",
      "metadata": {
        "id": "a0f5463d"
      },
      "outputs": [],
      "source": [
        "column_names = df.columns\n",
        "print(column_names)\n",
        "\n",
        "column_names = list(df.columns)\n",
        "column_names.sort()\n",
        "print(column_names)"
      ]
    },
    {
      "cell_type": "markdown",
      "id": "33bd5f70",
      "metadata": {
        "id": "33bd5f70"
      },
      "source": [
        "Lets say we would like to splice our data frame and select only specific portions of our data.  There are three different ways of doing so.\n",
        "\n",
        "1. .loc()\n",
        "2. .iloc()\n",
        "3. .ix()\n",
        "\n",
        "We will cover the .loc() and .iloc() splicing functions.\n",
        "\n",
        "## .loc()        \n",
        "\n",
        "### df.loc[row_start : row_end, column_start, column_end]\n",
        "\n",
        "\n",
        ".loc() takes two single/list/range operator separated by ','. The first one indicates the row and the second one indicates columns.\n",
        "\n",
        "Use just \"*column_names*\". **No indices**"
      ]
    },
    {
      "cell_type": "code",
      "execution_count": null,
      "id": "908741fd",
      "metadata": {
        "id": "908741fd",
        "outputId": "a897cf43-e6d6-408e-ad51-3d2c469788f4"
      },
      "outputs": [
        {
          "data": {
            "text/plain": [
              "Index(['ID', 'Age', 'Gender', 'GenderGroup', 'Glasses', 'GlassesGroup',\n",
              "       'Height', 'Wingspan', 'CWDistance', 'Complete', 'CompleteGroup',\n",
              "       'Score'],\n",
              "      dtype='object')"
            ]
          },
          "execution_count": 12,
          "metadata": {},
          "output_type": "execute_result"
        }
      ],
      "source": [
        "df.columns"
      ]
    },
    {
      "cell_type": "code",
      "execution_count": null,
      "id": "cb46132f",
      "metadata": {
        "id": "cb46132f"
      },
      "outputs": [],
      "source": [
        "df.loc[:,\"CWDistance\"]"
      ]
    },
    {
      "cell_type": "code",
      "execution_count": null,
      "id": "fd952a4c",
      "metadata": {
        "id": "fd952a4c",
        "outputId": "0a395b66-ffde-4b28-b501-c2374f703f9f"
      },
      "outputs": [
        {
          "data": {
            "text/html": [
              "<div>\n",
              "<style scoped>\n",
              "    .dataframe tbody tr th:only-of-type {\n",
              "        vertical-align: middle;\n",
              "    }\n",
              "\n",
              "    .dataframe tbody tr th {\n",
              "        vertical-align: top;\n",
              "    }\n",
              "\n",
              "    .dataframe thead th {\n",
              "        text-align: right;\n",
              "    }\n",
              "</style>\n",
              "<table border=\"1\" class=\"dataframe\">\n",
              "  <thead>\n",
              "    <tr style=\"text-align: right;\">\n",
              "      <th></th>\n",
              "      <th>CWDistance</th>\n",
              "      <th>Complete</th>\n",
              "      <th>CompleteGroup</th>\n",
              "      <th>Score</th>\n",
              "    </tr>\n",
              "  </thead>\n",
              "  <tbody>\n",
              "    <tr>\n",
              "      <th>0</th>\n",
              "      <td>79</td>\n",
              "      <td>Y</td>\n",
              "      <td>1</td>\n",
              "      <td>7</td>\n",
              "    </tr>\n",
              "    <tr>\n",
              "      <th>1</th>\n",
              "      <td>70</td>\n",
              "      <td>Y</td>\n",
              "      <td>1</td>\n",
              "      <td>8</td>\n",
              "    </tr>\n",
              "    <tr>\n",
              "      <th>2</th>\n",
              "      <td>85</td>\n",
              "      <td>Y</td>\n",
              "      <td>1</td>\n",
              "      <td>7</td>\n",
              "    </tr>\n",
              "    <tr>\n",
              "      <th>3</th>\n",
              "      <td>87</td>\n",
              "      <td>Y</td>\n",
              "      <td>1</td>\n",
              "      <td>10</td>\n",
              "    </tr>\n",
              "    <tr>\n",
              "      <th>4</th>\n",
              "      <td>72</td>\n",
              "      <td>N</td>\n",
              "      <td>0</td>\n",
              "      <td>4</td>\n",
              "    </tr>\n",
              "    <tr>\n",
              "      <th>5</th>\n",
              "      <td>81</td>\n",
              "      <td>N</td>\n",
              "      <td>0</td>\n",
              "      <td>3</td>\n",
              "    </tr>\n",
              "    <tr>\n",
              "      <th>6</th>\n",
              "      <td>107</td>\n",
              "      <td>Y</td>\n",
              "      <td>1</td>\n",
              "      <td>10</td>\n",
              "    </tr>\n",
              "    <tr>\n",
              "      <th>7</th>\n",
              "      <td>98</td>\n",
              "      <td>Y</td>\n",
              "      <td>1</td>\n",
              "      <td>9</td>\n",
              "    </tr>\n",
              "    <tr>\n",
              "      <th>8</th>\n",
              "      <td>106</td>\n",
              "      <td>N</td>\n",
              "      <td>0</td>\n",
              "      <td>5</td>\n",
              "    </tr>\n",
              "    <tr>\n",
              "      <th>9</th>\n",
              "      <td>65</td>\n",
              "      <td>Y</td>\n",
              "      <td>1</td>\n",
              "      <td>8</td>\n",
              "    </tr>\n",
              "    <tr>\n",
              "      <th>10</th>\n",
              "      <td>96</td>\n",
              "      <td>Y</td>\n",
              "      <td>1</td>\n",
              "      <td>6</td>\n",
              "    </tr>\n",
              "    <tr>\n",
              "      <th>11</th>\n",
              "      <td>79</td>\n",
              "      <td>Y</td>\n",
              "      <td>1</td>\n",
              "      <td>10</td>\n",
              "    </tr>\n",
              "    <tr>\n",
              "      <th>12</th>\n",
              "      <td>92</td>\n",
              "      <td>Y</td>\n",
              "      <td>1</td>\n",
              "      <td>6</td>\n",
              "    </tr>\n",
              "    <tr>\n",
              "      <th>13</th>\n",
              "      <td>66</td>\n",
              "      <td>Y</td>\n",
              "      <td>1</td>\n",
              "      <td>4</td>\n",
              "    </tr>\n",
              "    <tr>\n",
              "      <th>14</th>\n",
              "      <td>72</td>\n",
              "      <td>Y</td>\n",
              "      <td>1</td>\n",
              "      <td>9</td>\n",
              "    </tr>\n",
              "    <tr>\n",
              "      <th>15</th>\n",
              "      <td>115</td>\n",
              "      <td>Y</td>\n",
              "      <td>1</td>\n",
              "      <td>6</td>\n",
              "    </tr>\n",
              "    <tr>\n",
              "      <th>16</th>\n",
              "      <td>90</td>\n",
              "      <td>N</td>\n",
              "      <td>0</td>\n",
              "      <td>10</td>\n",
              "    </tr>\n",
              "    <tr>\n",
              "      <th>17</th>\n",
              "      <td>74</td>\n",
              "      <td>Y</td>\n",
              "      <td>1</td>\n",
              "      <td>5</td>\n",
              "    </tr>\n",
              "    <tr>\n",
              "      <th>18</th>\n",
              "      <td>64</td>\n",
              "      <td>Y</td>\n",
              "      <td>1</td>\n",
              "      <td>3</td>\n",
              "    </tr>\n",
              "    <tr>\n",
              "      <th>19</th>\n",
              "      <td>85</td>\n",
              "      <td>Y</td>\n",
              "      <td>1</td>\n",
              "      <td>8</td>\n",
              "    </tr>\n",
              "    <tr>\n",
              "      <th>20</th>\n",
              "      <td>66</td>\n",
              "      <td>N</td>\n",
              "      <td>0</td>\n",
              "      <td>2</td>\n",
              "    </tr>\n",
              "    <tr>\n",
              "      <th>21</th>\n",
              "      <td>101</td>\n",
              "      <td>Y</td>\n",
              "      <td>1</td>\n",
              "      <td>8</td>\n",
              "    </tr>\n",
              "    <tr>\n",
              "      <th>22</th>\n",
              "      <td>82</td>\n",
              "      <td>Y</td>\n",
              "      <td>1</td>\n",
              "      <td>4</td>\n",
              "    </tr>\n",
              "    <tr>\n",
              "      <th>23</th>\n",
              "      <td>63</td>\n",
              "      <td>Y</td>\n",
              "      <td>1</td>\n",
              "      <td>5</td>\n",
              "    </tr>\n",
              "    <tr>\n",
              "      <th>24</th>\n",
              "      <td>67</td>\n",
              "      <td>N</td>\n",
              "      <td>0</td>\n",
              "      <td>3</td>\n",
              "    </tr>\n",
              "  </tbody>\n",
              "</table>\n",
              "</div>"
            ],
            "text/plain": [
              "    CWDistance Complete  CompleteGroup  Score\n",
              "0           79        Y              1      7\n",
              "1           70        Y              1      8\n",
              "2           85        Y              1      7\n",
              "3           87        Y              1     10\n",
              "4           72        N              0      4\n",
              "5           81        N              0      3\n",
              "6          107        Y              1     10\n",
              "7           98        Y              1      9\n",
              "8          106        N              0      5\n",
              "9           65        Y              1      8\n",
              "10          96        Y              1      6\n",
              "11          79        Y              1     10\n",
              "12          92        Y              1      6\n",
              "13          66        Y              1      4\n",
              "14          72        Y              1      9\n",
              "15         115        Y              1      6\n",
              "16          90        N              0     10\n",
              "17          74        Y              1      5\n",
              "18          64        Y              1      3\n",
              "19          85        Y              1      8\n",
              "20          66        N              0      2\n",
              "21         101        Y              1      8\n",
              "22          82        Y              1      4\n",
              "23          63        Y              1      5\n",
              "24          67        N              0      3"
            ]
          },
          "execution_count": 32,
          "metadata": {},
          "output_type": "execute_result"
        }
      ],
      "source": [
        "df.iloc[:, 8:]"
      ]
    },
    {
      "cell_type": "code",
      "execution_count": null,
      "id": "81940056",
      "metadata": {
        "id": "81940056",
        "outputId": "ccd12fd2-2eab-4c4c-eda2-3d3f48e474e1"
      },
      "outputs": [
        {
          "data": {
            "text/html": [
              "<div>\n",
              "<style scoped>\n",
              "    .dataframe tbody tr th:only-of-type {\n",
              "        vertical-align: middle;\n",
              "    }\n",
              "\n",
              "    .dataframe tbody tr th {\n",
              "        vertical-align: top;\n",
              "    }\n",
              "\n",
              "    .dataframe thead th {\n",
              "        text-align: right;\n",
              "    }\n",
              "</style>\n",
              "<table border=\"1\" class=\"dataframe\">\n",
              "  <thead>\n",
              "    <tr style=\"text-align: right;\">\n",
              "      <th></th>\n",
              "      <th>CWDistance</th>\n",
              "      <th>Complete</th>\n",
              "      <th>CompleteGroup</th>\n",
              "      <th>Score</th>\n",
              "    </tr>\n",
              "  </thead>\n",
              "  <tbody>\n",
              "    <tr>\n",
              "      <th>0</th>\n",
              "      <td>79</td>\n",
              "      <td>Y</td>\n",
              "      <td>1</td>\n",
              "      <td>7</td>\n",
              "    </tr>\n",
              "    <tr>\n",
              "      <th>1</th>\n",
              "      <td>70</td>\n",
              "      <td>Y</td>\n",
              "      <td>1</td>\n",
              "      <td>8</td>\n",
              "    </tr>\n",
              "    <tr>\n",
              "      <th>2</th>\n",
              "      <td>85</td>\n",
              "      <td>Y</td>\n",
              "      <td>1</td>\n",
              "      <td>7</td>\n",
              "    </tr>\n",
              "    <tr>\n",
              "      <th>3</th>\n",
              "      <td>87</td>\n",
              "      <td>Y</td>\n",
              "      <td>1</td>\n",
              "      <td>10</td>\n",
              "    </tr>\n",
              "    <tr>\n",
              "      <th>4</th>\n",
              "      <td>72</td>\n",
              "      <td>N</td>\n",
              "      <td>0</td>\n",
              "      <td>4</td>\n",
              "    </tr>\n",
              "    <tr>\n",
              "      <th>5</th>\n",
              "      <td>81</td>\n",
              "      <td>N</td>\n",
              "      <td>0</td>\n",
              "      <td>3</td>\n",
              "    </tr>\n",
              "    <tr>\n",
              "      <th>6</th>\n",
              "      <td>107</td>\n",
              "      <td>Y</td>\n",
              "      <td>1</td>\n",
              "      <td>10</td>\n",
              "    </tr>\n",
              "    <tr>\n",
              "      <th>7</th>\n",
              "      <td>98</td>\n",
              "      <td>Y</td>\n",
              "      <td>1</td>\n",
              "      <td>9</td>\n",
              "    </tr>\n",
              "    <tr>\n",
              "      <th>8</th>\n",
              "      <td>106</td>\n",
              "      <td>N</td>\n",
              "      <td>0</td>\n",
              "      <td>5</td>\n",
              "    </tr>\n",
              "    <tr>\n",
              "      <th>9</th>\n",
              "      <td>65</td>\n",
              "      <td>Y</td>\n",
              "      <td>1</td>\n",
              "      <td>8</td>\n",
              "    </tr>\n",
              "    <tr>\n",
              "      <th>10</th>\n",
              "      <td>96</td>\n",
              "      <td>Y</td>\n",
              "      <td>1</td>\n",
              "      <td>6</td>\n",
              "    </tr>\n",
              "    <tr>\n",
              "      <th>11</th>\n",
              "      <td>79</td>\n",
              "      <td>Y</td>\n",
              "      <td>1</td>\n",
              "      <td>10</td>\n",
              "    </tr>\n",
              "    <tr>\n",
              "      <th>12</th>\n",
              "      <td>92</td>\n",
              "      <td>Y</td>\n",
              "      <td>1</td>\n",
              "      <td>6</td>\n",
              "    </tr>\n",
              "    <tr>\n",
              "      <th>13</th>\n",
              "      <td>66</td>\n",
              "      <td>Y</td>\n",
              "      <td>1</td>\n",
              "      <td>4</td>\n",
              "    </tr>\n",
              "    <tr>\n",
              "      <th>14</th>\n",
              "      <td>72</td>\n",
              "      <td>Y</td>\n",
              "      <td>1</td>\n",
              "      <td>9</td>\n",
              "    </tr>\n",
              "    <tr>\n",
              "      <th>15</th>\n",
              "      <td>115</td>\n",
              "      <td>Y</td>\n",
              "      <td>1</td>\n",
              "      <td>6</td>\n",
              "    </tr>\n",
              "    <tr>\n",
              "      <th>16</th>\n",
              "      <td>90</td>\n",
              "      <td>N</td>\n",
              "      <td>0</td>\n",
              "      <td>10</td>\n",
              "    </tr>\n",
              "    <tr>\n",
              "      <th>17</th>\n",
              "      <td>74</td>\n",
              "      <td>Y</td>\n",
              "      <td>1</td>\n",
              "      <td>5</td>\n",
              "    </tr>\n",
              "    <tr>\n",
              "      <th>18</th>\n",
              "      <td>64</td>\n",
              "      <td>Y</td>\n",
              "      <td>1</td>\n",
              "      <td>3</td>\n",
              "    </tr>\n",
              "    <tr>\n",
              "      <th>19</th>\n",
              "      <td>85</td>\n",
              "      <td>Y</td>\n",
              "      <td>1</td>\n",
              "      <td>8</td>\n",
              "    </tr>\n",
              "    <tr>\n",
              "      <th>20</th>\n",
              "      <td>66</td>\n",
              "      <td>N</td>\n",
              "      <td>0</td>\n",
              "      <td>2</td>\n",
              "    </tr>\n",
              "    <tr>\n",
              "      <th>21</th>\n",
              "      <td>101</td>\n",
              "      <td>Y</td>\n",
              "      <td>1</td>\n",
              "      <td>8</td>\n",
              "    </tr>\n",
              "    <tr>\n",
              "      <th>22</th>\n",
              "      <td>82</td>\n",
              "      <td>Y</td>\n",
              "      <td>1</td>\n",
              "      <td>4</td>\n",
              "    </tr>\n",
              "    <tr>\n",
              "      <th>23</th>\n",
              "      <td>63</td>\n",
              "      <td>Y</td>\n",
              "      <td>1</td>\n",
              "      <td>5</td>\n",
              "    </tr>\n",
              "    <tr>\n",
              "      <th>24</th>\n",
              "      <td>67</td>\n",
              "      <td>N</td>\n",
              "      <td>0</td>\n",
              "      <td>3</td>\n",
              "    </tr>\n",
              "  </tbody>\n",
              "</table>\n",
              "</div>"
            ],
            "text/plain": [
              "    CWDistance Complete  CompleteGroup  Score\n",
              "0           79        Y              1      7\n",
              "1           70        Y              1      8\n",
              "2           85        Y              1      7\n",
              "3           87        Y              1     10\n",
              "4           72        N              0      4\n",
              "5           81        N              0      3\n",
              "6          107        Y              1     10\n",
              "7           98        Y              1      9\n",
              "8          106        N              0      5\n",
              "9           65        Y              1      8\n",
              "10          96        Y              1      6\n",
              "11          79        Y              1     10\n",
              "12          92        Y              1      6\n",
              "13          66        Y              1      4\n",
              "14          72        Y              1      9\n",
              "15         115        Y              1      6\n",
              "16          90        N              0     10\n",
              "17          74        Y              1      5\n",
              "18          64        Y              1      3\n",
              "19          85        Y              1      8\n",
              "20          66        N              0      2\n",
              "21         101        Y              1      8\n",
              "22          82        Y              1      4\n",
              "23          63        Y              1      5\n",
              "24          67        N              0      3"
            ]
          },
          "execution_count": 36,
          "metadata": {},
          "output_type": "execute_result"
        }
      ],
      "source": [
        "df.iloc[:, -4:]"
      ]
    },
    {
      "cell_type": "code",
      "execution_count": null,
      "id": "f8df5514",
      "metadata": {
        "id": "f8df5514",
        "outputId": "c3033a50-5a12-4f81-d7d0-2f4c6aa29687"
      },
      "outputs": [
        {
          "data": {
            "text/html": [
              "<div>\n",
              "<style scoped>\n",
              "    .dataframe tbody tr th:only-of-type {\n",
              "        vertical-align: middle;\n",
              "    }\n",
              "\n",
              "    .dataframe tbody tr th {\n",
              "        vertical-align: top;\n",
              "    }\n",
              "\n",
              "    .dataframe thead th {\n",
              "        text-align: right;\n",
              "    }\n",
              "</style>\n",
              "<table border=\"1\" class=\"dataframe\">\n",
              "  <thead>\n",
              "    <tr style=\"text-align: right;\">\n",
              "      <th></th>\n",
              "      <th>CWDistance</th>\n",
              "      <th>Complete</th>\n",
              "    </tr>\n",
              "  </thead>\n",
              "  <tbody>\n",
              "    <tr>\n",
              "      <th>0</th>\n",
              "      <td>79</td>\n",
              "      <td>Y</td>\n",
              "    </tr>\n",
              "    <tr>\n",
              "      <th>1</th>\n",
              "      <td>70</td>\n",
              "      <td>Y</td>\n",
              "    </tr>\n",
              "    <tr>\n",
              "      <th>2</th>\n",
              "      <td>85</td>\n",
              "      <td>Y</td>\n",
              "    </tr>\n",
              "    <tr>\n",
              "      <th>3</th>\n",
              "      <td>87</td>\n",
              "      <td>Y</td>\n",
              "    </tr>\n",
              "    <tr>\n",
              "      <th>4</th>\n",
              "      <td>72</td>\n",
              "      <td>N</td>\n",
              "    </tr>\n",
              "    <tr>\n",
              "      <th>5</th>\n",
              "      <td>81</td>\n",
              "      <td>N</td>\n",
              "    </tr>\n",
              "    <tr>\n",
              "      <th>6</th>\n",
              "      <td>107</td>\n",
              "      <td>Y</td>\n",
              "    </tr>\n",
              "    <tr>\n",
              "      <th>7</th>\n",
              "      <td>98</td>\n",
              "      <td>Y</td>\n",
              "    </tr>\n",
              "    <tr>\n",
              "      <th>8</th>\n",
              "      <td>106</td>\n",
              "      <td>N</td>\n",
              "    </tr>\n",
              "    <tr>\n",
              "      <th>9</th>\n",
              "      <td>65</td>\n",
              "      <td>Y</td>\n",
              "    </tr>\n",
              "    <tr>\n",
              "      <th>10</th>\n",
              "      <td>96</td>\n",
              "      <td>Y</td>\n",
              "    </tr>\n",
              "    <tr>\n",
              "      <th>11</th>\n",
              "      <td>79</td>\n",
              "      <td>Y</td>\n",
              "    </tr>\n",
              "    <tr>\n",
              "      <th>12</th>\n",
              "      <td>92</td>\n",
              "      <td>Y</td>\n",
              "    </tr>\n",
              "    <tr>\n",
              "      <th>13</th>\n",
              "      <td>66</td>\n",
              "      <td>Y</td>\n",
              "    </tr>\n",
              "    <tr>\n",
              "      <th>14</th>\n",
              "      <td>72</td>\n",
              "      <td>Y</td>\n",
              "    </tr>\n",
              "    <tr>\n",
              "      <th>15</th>\n",
              "      <td>115</td>\n",
              "      <td>Y</td>\n",
              "    </tr>\n",
              "    <tr>\n",
              "      <th>16</th>\n",
              "      <td>90</td>\n",
              "      <td>N</td>\n",
              "    </tr>\n",
              "    <tr>\n",
              "      <th>17</th>\n",
              "      <td>74</td>\n",
              "      <td>Y</td>\n",
              "    </tr>\n",
              "    <tr>\n",
              "      <th>18</th>\n",
              "      <td>64</td>\n",
              "      <td>Y</td>\n",
              "    </tr>\n",
              "    <tr>\n",
              "      <th>19</th>\n",
              "      <td>85</td>\n",
              "      <td>Y</td>\n",
              "    </tr>\n",
              "    <tr>\n",
              "      <th>20</th>\n",
              "      <td>66</td>\n",
              "      <td>N</td>\n",
              "    </tr>\n",
              "    <tr>\n",
              "      <th>21</th>\n",
              "      <td>101</td>\n",
              "      <td>Y</td>\n",
              "    </tr>\n",
              "    <tr>\n",
              "      <th>22</th>\n",
              "      <td>82</td>\n",
              "      <td>Y</td>\n",
              "    </tr>\n",
              "    <tr>\n",
              "      <th>23</th>\n",
              "      <td>63</td>\n",
              "      <td>Y</td>\n",
              "    </tr>\n",
              "    <tr>\n",
              "      <th>24</th>\n",
              "      <td>67</td>\n",
              "      <td>N</td>\n",
              "    </tr>\n",
              "  </tbody>\n",
              "</table>\n",
              "</div>"
            ],
            "text/plain": [
              "    CWDistance Complete\n",
              "0           79        Y\n",
              "1           70        Y\n",
              "2           85        Y\n",
              "3           87        Y\n",
              "4           72        N\n",
              "5           81        N\n",
              "6          107        Y\n",
              "7           98        Y\n",
              "8          106        N\n",
              "9           65        Y\n",
              "10          96        Y\n",
              "11          79        Y\n",
              "12          92        Y\n",
              "13          66        Y\n",
              "14          72        Y\n",
              "15         115        Y\n",
              "16          90        N\n",
              "17          74        Y\n",
              "18          64        Y\n",
              "19          85        Y\n",
              "20          66        N\n",
              "21         101        Y\n",
              "22          82        Y\n",
              "23          63        Y\n",
              "24          67        N"
            ]
          },
          "execution_count": 37,
          "metadata": {},
          "output_type": "execute_result"
        }
      ],
      "source": [
        "df.iloc[:, -4:-2]"
      ]
    },
    {
      "cell_type": "code",
      "execution_count": null,
      "id": "44849c69",
      "metadata": {
        "id": "44849c69",
        "outputId": "69a0e2c1-c7c1-4da9-a2a5-0668b8eda736"
      },
      "outputs": [
        {
          "data": {
            "text/html": [
              "<div>\n",
              "<style scoped>\n",
              "    .dataframe tbody tr th:only-of-type {\n",
              "        vertical-align: middle;\n",
              "    }\n",
              "\n",
              "    .dataframe tbody tr th {\n",
              "        vertical-align: top;\n",
              "    }\n",
              "\n",
              "    .dataframe thead th {\n",
              "        text-align: right;\n",
              "    }\n",
              "</style>\n",
              "<table border=\"1\" class=\"dataframe\">\n",
              "  <thead>\n",
              "    <tr style=\"text-align: right;\">\n",
              "      <th></th>\n",
              "      <th>Age</th>\n",
              "      <th>Gender</th>\n",
              "      <th>GenderGroup</th>\n",
              "    </tr>\n",
              "  </thead>\n",
              "  <tbody>\n",
              "    <tr>\n",
              "      <th>0</th>\n",
              "      <td>56</td>\n",
              "      <td>F</td>\n",
              "      <td>1</td>\n",
              "    </tr>\n",
              "    <tr>\n",
              "      <th>1</th>\n",
              "      <td>26</td>\n",
              "      <td>F</td>\n",
              "      <td>1</td>\n",
              "    </tr>\n",
              "    <tr>\n",
              "      <th>2</th>\n",
              "      <td>33</td>\n",
              "      <td>F</td>\n",
              "      <td>1</td>\n",
              "    </tr>\n",
              "    <tr>\n",
              "      <th>3</th>\n",
              "      <td>39</td>\n",
              "      <td>F</td>\n",
              "      <td>1</td>\n",
              "    </tr>\n",
              "    <tr>\n",
              "      <th>4</th>\n",
              "      <td>27</td>\n",
              "      <td>M</td>\n",
              "      <td>2</td>\n",
              "    </tr>\n",
              "    <tr>\n",
              "      <th>5</th>\n",
              "      <td>24</td>\n",
              "      <td>M</td>\n",
              "      <td>2</td>\n",
              "    </tr>\n",
              "    <tr>\n",
              "      <th>6</th>\n",
              "      <td>28</td>\n",
              "      <td>M</td>\n",
              "      <td>2</td>\n",
              "    </tr>\n",
              "    <tr>\n",
              "      <th>7</th>\n",
              "      <td>22</td>\n",
              "      <td>F</td>\n",
              "      <td>1</td>\n",
              "    </tr>\n",
              "    <tr>\n",
              "      <th>8</th>\n",
              "      <td>29</td>\n",
              "      <td>M</td>\n",
              "      <td>2</td>\n",
              "    </tr>\n",
              "    <tr>\n",
              "      <th>9</th>\n",
              "      <td>33</td>\n",
              "      <td>F</td>\n",
              "      <td>1</td>\n",
              "    </tr>\n",
              "    <tr>\n",
              "      <th>10</th>\n",
              "      <td>30</td>\n",
              "      <td>M</td>\n",
              "      <td>2</td>\n",
              "    </tr>\n",
              "    <tr>\n",
              "      <th>11</th>\n",
              "      <td>28</td>\n",
              "      <td>F</td>\n",
              "      <td>1</td>\n",
              "    </tr>\n",
              "    <tr>\n",
              "      <th>12</th>\n",
              "      <td>25</td>\n",
              "      <td>F</td>\n",
              "      <td>1</td>\n",
              "    </tr>\n",
              "    <tr>\n",
              "      <th>13</th>\n",
              "      <td>23</td>\n",
              "      <td>F</td>\n",
              "      <td>1</td>\n",
              "    </tr>\n",
              "    <tr>\n",
              "      <th>14</th>\n",
              "      <td>31</td>\n",
              "      <td>M</td>\n",
              "      <td>2</td>\n",
              "    </tr>\n",
              "    <tr>\n",
              "      <th>15</th>\n",
              "      <td>26</td>\n",
              "      <td>M</td>\n",
              "      <td>2</td>\n",
              "    </tr>\n",
              "    <tr>\n",
              "      <th>16</th>\n",
              "      <td>26</td>\n",
              "      <td>F</td>\n",
              "      <td>1</td>\n",
              "    </tr>\n",
              "    <tr>\n",
              "      <th>17</th>\n",
              "      <td>27</td>\n",
              "      <td>M</td>\n",
              "      <td>2</td>\n",
              "    </tr>\n",
              "    <tr>\n",
              "      <th>18</th>\n",
              "      <td>23</td>\n",
              "      <td>M</td>\n",
              "      <td>2</td>\n",
              "    </tr>\n",
              "    <tr>\n",
              "      <th>19</th>\n",
              "      <td>24</td>\n",
              "      <td>F</td>\n",
              "      <td>1</td>\n",
              "    </tr>\n",
              "    <tr>\n",
              "      <th>20</th>\n",
              "      <td>23</td>\n",
              "      <td>M</td>\n",
              "      <td>2</td>\n",
              "    </tr>\n",
              "    <tr>\n",
              "      <th>21</th>\n",
              "      <td>29</td>\n",
              "      <td>M</td>\n",
              "      <td>2</td>\n",
              "    </tr>\n",
              "    <tr>\n",
              "      <th>22</th>\n",
              "      <td>25</td>\n",
              "      <td>M</td>\n",
              "      <td>2</td>\n",
              "    </tr>\n",
              "    <tr>\n",
              "      <th>23</th>\n",
              "      <td>26</td>\n",
              "      <td>M</td>\n",
              "      <td>2</td>\n",
              "    </tr>\n",
              "    <tr>\n",
              "      <th>24</th>\n",
              "      <td>23</td>\n",
              "      <td>F</td>\n",
              "      <td>1</td>\n",
              "    </tr>\n",
              "  </tbody>\n",
              "</table>\n",
              "</div>"
            ],
            "text/plain": [
              "    Age Gender  GenderGroup\n",
              "0    56      F            1\n",
              "1    26      F            1\n",
              "2    33      F            1\n",
              "3    39      F            1\n",
              "4    27      M            2\n",
              "5    24      M            2\n",
              "6    28      M            2\n",
              "7    22      F            1\n",
              "8    29      M            2\n",
              "9    33      F            1\n",
              "10   30      M            2\n",
              "11   28      F            1\n",
              "12   25      F            1\n",
              "13   23      F            1\n",
              "14   31      M            2\n",
              "15   26      M            2\n",
              "16   26      F            1\n",
              "17   27      M            2\n",
              "18   23      M            2\n",
              "19   24      F            1\n",
              "20   23      M            2\n",
              "21   29      M            2\n",
              "22   25      M            2\n",
              "23   26      M            2\n",
              "24   23      F            1"
            ]
          },
          "execution_count": 15,
          "metadata": {},
          "output_type": "execute_result"
        }
      ],
      "source": [
        "df.loc[:,['Age', 'Gender', 'GenderGroup']]"
      ]
    },
    {
      "cell_type": "code",
      "execution_count": null,
      "id": "a604ae18",
      "metadata": {
        "id": "a604ae18"
      },
      "outputs": [],
      "source": [
        "df.loc[:9, [\"CWDistance\", \"Height\", \"Wingspan\"]]"
      ]
    },
    {
      "cell_type": "code",
      "execution_count": null,
      "id": "7054cbb3",
      "metadata": {
        "id": "7054cbb3"
      },
      "outputs": [],
      "source": [
        "# Select range of rows for all columns\n",
        "df.loc[5:10]"
      ]
    },
    {
      "cell_type": "markdown",
      "id": "d570ffe8",
      "metadata": {
        "id": "d570ffe8"
      },
      "source": [
        "The .loc() function requires two arguments, the indices of the rows and the column names you wish to observe.\n",
        "\n",
        "In the above case **:** specifies all rows, and our column is **CWDistance**. df.loc[**:**,**\"CWDistance\"**]\n",
        "\n",
        "Now, let's say we only want to return the first 10 observations:"
      ]
    },
    {
      "cell_type": "code",
      "execution_count": null,
      "id": "1f2dd2e3",
      "metadata": {
        "id": "1f2dd2e3"
      },
      "outputs": [],
      "source": [
        "df.loc[:9, \"CWDistance\"]"
      ]
    },
    {
      "cell_type": "markdown",
      "id": "41259698",
      "metadata": {
        "id": "41259698"
      },
      "source": [
        "## .iloc()\n",
        "\n",
        "### df.iloc[row_start : row_end, column_start, column_end]\n",
        "\n",
        ".iloc() is integer based slicing, whereas .loc() used labels/column names. \n",
        "\n",
        "Use just *column_index*. **No Names**\n",
        "\n",
        "\n",
        "\n",
        "Here are some examples:"
      ]
    },
    {
      "cell_type": "code",
      "execution_count": null,
      "id": "fd27a904",
      "metadata": {
        "id": "fd27a904"
      },
      "outputs": [],
      "source": [
        "df.iloc[:4]"
      ]
    },
    {
      "cell_type": "code",
      "execution_count": null,
      "id": "47460865",
      "metadata": {
        "id": "47460865"
      },
      "outputs": [],
      "source": [
        "df.iloc[1:5, 2:4]"
      ]
    },
    {
      "cell_type": "code",
      "execution_count": null,
      "id": "3c821c8a",
      "metadata": {
        "id": "3c821c8a"
      },
      "outputs": [],
      "source": [
        "#df.iloc[1:5, [\"Gender\", \"GenderGroup\"]]# is error. column names can't be called with iloc. \n",
        "df.iloc[1:5, ]"
      ]
    },
    {
      "cell_type": "markdown",
      "id": "1a1ba2d4",
      "metadata": {
        "id": "1a1ba2d4"
      },
      "source": [
        "We can view the data types of our data frame columns with by calling .dtypes on our data frame:"
      ]
    },
    {
      "cell_type": "code",
      "execution_count": null,
      "id": "67ef4036",
      "metadata": {
        "id": "67ef4036"
      },
      "outputs": [],
      "source": [
        "df.dtypes"
      ]
    },
    {
      "cell_type": "markdown",
      "id": "ae77b0c8",
      "metadata": {
        "id": "ae77b0c8"
      },
      "source": [
        "The output indicates we have integers, floats, and objects with our Data Frame.\n",
        "\n",
        "We may also want to observe the different unique values within a specific column, lets do this for Gender:"
      ]
    },
    {
      "cell_type": "code",
      "execution_count": null,
      "id": "af1e3da1",
      "metadata": {
        "id": "af1e3da1",
        "outputId": "115c839d-4972-4c96-c53b-5a33996ce8a5"
      },
      "outputs": [
        {
          "data": {
            "text/plain": [
              "array(['F', 'M'], dtype=object)"
            ]
          },
          "execution_count": 33,
          "metadata": {},
          "output_type": "execute_result"
        }
      ],
      "source": [
        "df.Gender.unique()"
      ]
    },
    {
      "cell_type": "code",
      "execution_count": null,
      "id": "6ed5a321",
      "metadata": {
        "id": "6ed5a321",
        "outputId": "6880d711-8100-4290-d079-36240a588d06"
      },
      "outputs": [
        {
          "data": {
            "text/plain": [
              "array([62.  , 66.  , 64.  , 73.  , 75.  , 65.  , 74.  , 63.  , 69.5 ,\n",
              "       62.75, 61.5 , 71.  , 70.  , 68.  , 69.  ])"
            ]
          },
          "execution_count": 34,
          "metadata": {},
          "output_type": "execute_result"
        }
      ],
      "source": [
        "df.Height.unique()"
      ]
    },
    {
      "cell_type": "code",
      "execution_count": null,
      "id": "876ff6e8",
      "metadata": {
        "id": "876ff6e8",
        "outputId": "e40af155-c778-4661-eef9-0dfb90c32abe"
      },
      "outputs": [
        {
          "data": {
            "text/plain": [
              "array([1, 2])"
            ]
          },
          "execution_count": 35,
          "metadata": {},
          "output_type": "execute_result"
        }
      ],
      "source": [
        "# Lets explore df[\"GenderGroup] as well\n",
        "df.GenderGroup.unique()"
      ]
    },
    {
      "cell_type": "markdown",
      "id": "bba6b2d6",
      "metadata": {
        "id": "bba6b2d6"
      },
      "source": [
        "It seems that these fields may serve the same purpose, which is to specify male vs. female. Lets check this quickly by observing only these two columns:"
      ]
    },
    {
      "cell_type": "code",
      "execution_count": null,
      "id": "5f73870b",
      "metadata": {
        "id": "5f73870b"
      },
      "outputs": [],
      "source": [
        "df.loc[:,[\"Gender\", \"GenderGroup\"]]"
      ]
    },
    {
      "cell_type": "markdown",
      "id": "e787facf",
      "metadata": {
        "id": "e787facf"
      },
      "source": [
        "From eyeballing the output, it seems to check out.  We can streamline this by utilizing the groupby() and size() functions."
      ]
    },
    {
      "cell_type": "code",
      "execution_count": null,
      "id": "446a7b11",
      "metadata": {
        "id": "446a7b11"
      },
      "outputs": [],
      "source": [
        "df.groupby(['Gender','GenderGroup']).size()"
      ]
    },
    {
      "cell_type": "markdown",
      "id": "68d1cad0",
      "metadata": {
        "id": "68d1cad0"
      },
      "source": [
        "This output indicates that we have two types of combinations. \n",
        "\n",
        "* Case 1: Gender = F & Gender Group = 1 \n",
        "* Case 2: Gender = M & GenderGroup = 2.  \n",
        "\n",
        "This validates our initial assumption that these two fields essentially portray the same information."
      ]
    },
    {
      "cell_type": "code",
      "execution_count": null,
      "id": "34c5e88d",
      "metadata": {
        "id": "34c5e88d"
      },
      "outputs": [],
      "source": [
        ""
      ]
    }
  ],
  "metadata": {
    "kernelspec": {
      "display_name": "Python 3 (ipykernel)",
      "language": "python",
      "name": "python3"
    },
    "language_info": {
      "codemirror_mode": {
        "name": "ipython",
        "version": 3
      },
      "file_extension": ".py",
      "mimetype": "text/x-python",
      "name": "python",
      "nbconvert_exporter": "python",
      "pygments_lexer": "ipython3",
      "version": "3.9.5"
    },
    "colab": {
      "name": "01_02_read_iloc_unique_groupby.ipynb",
      "provenance": []
    }
  },
  "nbformat": 4,
  "nbformat_minor": 5
}